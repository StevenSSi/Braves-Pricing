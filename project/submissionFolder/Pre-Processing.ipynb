{
 "cells": [
  {
   "cell_type": "markdown",
   "metadata": {},
   "source": [
    "#### Getting Prediction Dataset"
   ]
  },
  {
   "cell_type": "code",
   "execution_count": 144,
   "metadata": {},
   "outputs": [],
   "source": [
    "# Data Cleaning for Atlanta Braves Ticket Sale Prediction Project\n",
    "import pandas as pd\n",
    "import numpy as np\n",
    "import matplotlib.pyplot as plt\n",
    "\n",
    "schedule2017 = pd.read_csv(\"/Users/sisteven/Desktop/Sports Pricing Project/Raw Provided Data/2017_Schedule_info.csv\")\n",
    "schedule2018 = pd.read_csv(\"/Users/sisteven/Desktop/Sports Pricing Project/Raw Provided Data/2018_Schedule_info.csv\")\n",
    "schedule2019 = pd.read_csv(\"/Users/sisteven/Desktop/Sports Pricing Project/Raw Provided Data/2019_Schedule_info.csv\")\n",
    "schedule2021 = pd.read_csv(\"/Users/sisteven/Desktop/Sports Pricing Project/Raw Provided Data/2021_Schedule_info.csv\")\n",
    "schedule2022 = pd.read_csv(\"/Users/sisteven/Desktop/Sports Pricing Project/Raw Provided Data/2022_Schedule_info.csv\")\n",
    "schedule2023 = pd.read_csv(\"/Users/sisteven/Desktop/Sports Pricing Project/Prediction 2023 Data/2023_Schedule_info.csv\")\n",
    "\n",
    "ticketing2018 = pd.read_csv(\"/Users/sisteven/Desktop/Sports Pricing Project/Raw Provided Data/2018_Ticketing_Data.csv\")\n",
    "ticketing2019 = pd.read_csv(\"/Users/sisteven/Desktop/Sports Pricing Project/Raw Provided Data/2019_Ticketing_Data.csv\")\n",
    "ticketing2021 = pd.read_csv(\"/Users/sisteven/Desktop/Sports Pricing Project/Raw Provided Data/2021_Ticketing_Data.csv\")\n",
    "ticketing2022 = pd.read_csv(\"/Users/sisteven/Desktop/Sports Pricing Project/Raw Provided Data/2022_Ticketing_Data.csv\")\n",
    "ticketing2023 = pd.read_csv(\"/Users/sisteven/Desktop/Sports Pricing Project/Prediction 2023 Data/2023_Ticketing_Data.csv\")"
   ]
  },
  {
   "cell_type": "code",
   "execution_count": 145,
   "metadata": {},
   "outputs": [],
   "source": [
    "schedule2018.loc[schedule2018[\"O_Team\"] == \"Baltimore Orioles \", \"O_Team\"] = \"Baltimore Orioles\"\n",
    "schedule2023.loc[schedule2023[\"O_Team\"] == \"Baltimore Orioles \", \"O_Team\"] = \"Baltimore Orioles\""
   ]
  },
  {
   "cell_type": "code",
   "execution_count": 146,
   "metadata": {},
   "outputs": [],
   "source": [
    "mlb_team_data = pd.read_csv(\"/Users/sisteven/Desktop/Sports Pricing Project/Raw Provided Data/mlb_team_data.csv\")\n",
    "schedule2017 = pd.merge(schedule2017, mlb_team_data, left_on='O_Team', right_on='team')\n",
    "schedule2017 = schedule2017.drop(columns=['team'])\n",
    "\n",
    "schedule2018 = pd.merge(schedule2018, mlb_team_data, left_on='O_Team', right_on='team')\n",
    "schedule2018 = schedule2018.drop(columns=['team'])\n",
    "\n",
    "schedule2019 = pd.merge(schedule2019, mlb_team_data, left_on='O_Team', right_on='team')\n",
    "schedule2019 = schedule2019.drop(columns=['team'])\n",
    "\n",
    "schedule2021 = pd.merge(schedule2021, mlb_team_data, left_on='O_Team', right_on='team')\n",
    "schedule2021 = schedule2021.drop(columns=['team'])\n",
    "\n",
    "schedule2022 = pd.merge(schedule2022, mlb_team_data, left_on='O_Team', right_on='team')\n",
    "schedule2022 = schedule2022.drop(columns=['team'])\n",
    "\n",
    "schedule2023 = pd.merge(schedule2023, mlb_team_data, left_on='O_Team', right_on='team')\n",
    "schedule2023 = schedule2023.drop(columns=['team'])\n"
   ]
  },
  {
   "cell_type": "code",
   "execution_count": null,
   "metadata": {},
   "outputs": [],
   "source": [
    "#Full Training X\n",
    "scheduleTraining = pd.concat([schedule2018, schedule2019, schedule2021, schedule2022], ignore_index=True)"
   ]
  },
  {
   "cell_type": "code",
   "execution_count": 148,
   "metadata": {},
   "outputs": [],
   "source": [
    "scheduleTraining['Date'] = pd.to_datetime(scheduleTraining['Date'])\n",
    "schedule2023['Date'] = pd.to_datetime(schedule2023['Date'])"
   ]
  },
  {
   "cell_type": "code",
   "execution_count": 149,
   "metadata": {},
   "outputs": [],
   "source": [
    "ticketingTraining = pd.concat([ticketing2018, ticketing2019, ticketing2021, ticketing2022], ignore_index=True)\n",
    "ticketingTraining['Date'] = pd.to_datetime(ticketingTraining['Date'])\n",
    "ticketing2023['Date'] = pd.to_datetime(ticketing2023['Date'])"
   ]
  },
  {
   "cell_type": "code",
   "execution_count": 150,
   "metadata": {},
   "outputs": [],
   "source": [
    "finalTraining = pd.merge(scheduleTraining, ticketingTraining, on='Date', how='inner')\n",
    "final2023 = pd.merge(schedule2023, ticketing2023, on='Date', how='inner')"
   ]
  },
  {
   "cell_type": "code",
   "execution_count": 151,
   "metadata": {},
   "outputs": [],
   "source": [
    "finalTraining = finalTraining.drop([\"afternoon_weekday\", \"afternoon_weekend\", \"Time_of_year\"], axis = 1)"
   ]
  },
  {
   "cell_type": "code",
   "execution_count": 152,
   "metadata": {},
   "outputs": [],
   "source": [
    "finalTraining = finalTraining[finalTraining[\"delete\"] != 1]"
   ]
  },
  {
   "cell_type": "code",
   "execution_count": 153,
   "metadata": {},
   "outputs": [],
   "source": [
    "final2023 = final2023.drop([\"afternoon_weekday\", \"afternoon_weekend\", \"Time_of_year\"], axis = 1)"
   ]
  },
  {
   "cell_type": "code",
   "execution_count": 154,
   "metadata": {},
   "outputs": [],
   "source": [
    "finalTraining = finalTraining.drop(\"delete\",axis = 1)\n",
    "final2023 = final2023.drop(\"delete\", axis = 1)"
   ]
  },
  {
   "cell_type": "code",
   "execution_count": null,
   "metadata": {},
   "outputs": [],
   "source": [
    "pd.set_option(\"display.max_columns\", None)"
   ]
  },
  {
   "cell_type": "markdown",
   "metadata": {},
   "source": [
    "### Output final dataset"
   ]
  },
  {
   "cell_type": "code",
   "execution_count": 156,
   "metadata": {},
   "outputs": [],
   "source": [
    "finalTraining.to_csv(\"finalTraining.csv\", index = False)"
   ]
  },
  {
   "cell_type": "code",
   "execution_count": 157,
   "metadata": {},
   "outputs": [],
   "source": [
    "final2023.to_csv(\"final2023.csv\", index = False)"
   ]
  }
 ],
 "metadata": {
  "kernelspec": {
   "display_name": "Python 3",
   "language": "python",
   "name": "python3"
  },
  "language_info": {
   "codemirror_mode": {
    "name": "ipython",
    "version": 3
   },
   "file_extension": ".py",
   "mimetype": "text/x-python",
   "name": "python",
   "nbconvert_exporter": "python",
   "pygments_lexer": "ipython3",
   "version": "3.10.6"
  }
 },
 "nbformat": 4,
 "nbformat_minor": 2
}
